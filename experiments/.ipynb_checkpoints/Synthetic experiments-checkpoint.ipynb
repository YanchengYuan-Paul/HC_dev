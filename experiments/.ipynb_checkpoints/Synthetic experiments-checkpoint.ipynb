{
 "cells": [
  {
   "cell_type": "markdown",
   "metadata": {},
   "source": [
    "<center><h1>  Synthetic Experiments    </h1></center>"
   ]
  },
  {
   "cell_type": "code",
   "execution_count": 4,
   "metadata": {},
   "outputs": [],
   "source": [
    "%matplotlib inline\n",
    "import matplotlib.pyplot as plt\n",
    "import networkx as nx\n",
    "import numpy as np\n",
    "import pandas as pd\n",
    "import pickle\n",
    "import random\n",
    "import scipy as sc\n",
    "import seaborn as sb\n",
    "import sklearn as sk\n",
    "import sys\n",
    "\n",
    "sys.path.append('../')\n",
    "from projections import*\n",
    "from convex_hc_denoising import*\n",
    "from convex_hc_ADMM import*\n",
    "from utils import *\n",
    "\n",
    "random.seed(2018)"
   ]
  },
  {
   "cell_type": "markdown",
   "metadata": {},
   "source": [
    "# I. Mixture of Gaussians"
   ]
  },
  {
   "cell_type": "code",
   "execution_count": null,
   "metadata": {
    "collapsed": true
   },
   "outputs": [],
   "source": [
    "#### Generate a Mixture of Gaussians and assess the performance of the method in recovering it.\n",
    "C = 6\n",
    "N = 200\n",
    "X = np.zeros((N, 2))\n",
    "sigma = [1,1,1,3,5,6]\n",
    "mu = np.array([[0,0],[1,-1],[3,5], [-1,3], [2,2], [5,1]])\n",
    "for c in range(C):\n",
    "    X[i*N/C:(i+1)*N/C, :] = [np.random.normal(mu[c,0], sigma[c]), np.random.normal(mu[c,1], sigma[c])]"
   ]
  },
  {
   "cell_type": "markdown",
   "metadata": {},
   "source": [
    "# II. Stochastic Block Models"
   ]
  },
  {
   "cell_type": "markdown",
   "metadata": {},
   "source": [
    "# III. Nested Subcliques\n",
    "\n",
    "### III. a. Simple ER structure\n",
    "\n",
    "\n",
    "\n"
   ]
  },
  {
   "cell_type": "markdown",
   "metadata": {},
   "source": [
    "### III.b. More complex structure"
   ]
  },
  {
   "cell_type": "code",
   "execution_count": null,
   "metadata": {
    "collapsed": true
   },
   "outputs": [],
   "source": []
  }
 ],
 "metadata": {
  "kernelspec": {
   "display_name": "Python 2",
   "language": "python",
   "name": "python2"
  },
  "language_info": {
   "codemirror_mode": {
    "name": "ipython",
    "version": 2
   },
   "file_extension": ".py",
   "mimetype": "text/x-python",
   "name": "python",
   "nbconvert_exporter": "python",
   "pygments_lexer": "ipython2",
   "version": "2.7.13"
  }
 },
 "nbformat": 4,
 "nbformat_minor": 2
}
